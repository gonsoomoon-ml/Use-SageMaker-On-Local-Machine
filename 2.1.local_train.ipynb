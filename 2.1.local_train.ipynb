{
 "cells": [
  {
   "cell_type": "markdown",
   "id": "b68214e7-63fa-4275-84a2-1e42e027133b",
   "metadata": {},
   "source": [
    "# [모듈 2.1] 로컬 머신에서 훈련 (1)\n",
    "### 데이터 인터넷에서 다운로드 및 훈련 이미지를 ECR에서 다운로드\n",
    "\n",
    "- 필요 리소스\n",
    "    - Sagemaker Session\n",
    "    - AWS IAM Role\n",
    "    - 로컬 머신에 Docker 설치\n",
    "\n",
    "---\n",
    "### 참조 자료\n",
    "- Setting up Amazon SageMaker Environment On Your Local Machine\n",
    "    - 아래 블로그에서 로컬 환경 세팅만 진행\n",
    "    - https://towardsdatascience.com/setting-up-amazon-sagemaker-environment-on-your-local-machine-7329e0178adc\n",
    "- Train with Amazon SageMaker on your local machine\n",
    "    - 환경 셋업이 완료된 후에 코드만 수행\n",
    "    - https://www.youtube.com/watch?v=K3ngZKF31mc"
   ]
  },
  {
   "cell_type": "code",
   "execution_count": 1,
   "id": "e4e707b5-b5d0-4ff6-9f69-6493c79d0faf",
   "metadata": {},
   "outputs": [],
   "source": [
    "import pandas as pd\n",
    "import boto3\n",
    "import sagemaker"
   ]
  },
  {
   "cell_type": "code",
   "execution_count": 2,
   "id": "4fd827ee-1a83-436b-b599-0bcfb23efa84",
   "metadata": {},
   "outputs": [
    {
     "name": "stdout",
     "output_type": "stream",
     "text": [
      "1.2.4\n",
      "1.17.98\n",
      "2.46.0\n"
     ]
    }
   ],
   "source": [
    "print(pd.__version__)\n",
    "print(boto3.__version__)\n",
    "print(sagemaker.__version__)"
   ]
  },
  {
   "cell_type": "markdown",
   "id": "dd1b0906-baf8-4665-a68b-149519aba592",
   "metadata": {},
   "source": [
    "## 세이지 메이커 세션 및 Role 설정"
   ]
  },
  {
   "cell_type": "code",
   "execution_count": 3,
   "id": "6d52bf59-f787-47be-9841-0f96f0cfa0df",
   "metadata": {},
   "outputs": [],
   "source": [
    "sagemaker_session= sagemaker.Session()\n",
    "role='arn:aws:iam::057716757052:role/local_machine_sagemaker_gsmoon'\n",
    "\n"
   ]
  },
  {
   "cell_type": "code",
   "execution_count": 4,
   "id": "305065c7-1eb6-4091-a042-3a3e02a62cb4",
   "metadata": {},
   "outputs": [
    {
     "name": "stdout",
     "output_type": "stream",
     "text": [
      "057716757052\n"
     ]
    },
    {
     "name": "stderr",
     "output_type": "stream",
     "text": [
      "Couldn't call 'get_role' to get Role ARN from role name Administrator to get Role path.\n"
     ]
    },
    {
     "name": "stdout",
     "output_type": "stream",
     "text": [
      "arn:aws:iam::057716757052:user/Administrator\n"
     ]
    }
   ],
   "source": [
    "print(sagemaker_session.account_id())\n",
    "print(sagemaker_session.get_caller_identity_arn())\n"
   ]
  },
  {
   "cell_type": "markdown",
   "id": "4dda0979-112a-4ed3-b7e3-96b613a17dc9",
   "metadata": {},
   "source": [
    "## 데이터를 인터넷에서 다운로드"
   ]
  },
  {
   "cell_type": "code",
   "execution_count": 5,
   "id": "5b38e543-83fd-4867-8a8d-16c22d99d474",
   "metadata": {},
   "outputs": [],
   "source": [
    "import os\n",
    "import keras\n",
    "import numpy as np\n",
    "from keras.datasets import fashion_mnist"
   ]
  },
  {
   "cell_type": "code",
   "execution_count": 6,
   "id": "b4eaf67c-89a9-4464-89eb-ef7b500c2ee5",
   "metadata": {},
   "outputs": [],
   "source": [
    "(x_train, y_train), (x_val, y_val) = fashion_mnist.load_data()"
   ]
  },
  {
   "cell_type": "markdown",
   "id": "806364d9-1065-4c9e-8bce-b94347f8278c",
   "metadata": {},
   "source": [
    "## 로컬에 데이터 저장"
   ]
  },
  {
   "cell_type": "code",
   "execution_count": 7,
   "id": "dd13fb61-de4a-4d7f-b1fd-fb4e2ebf90df",
   "metadata": {},
   "outputs": [],
   "source": [
    "os.makedirs(\"./data\", exist_ok=True)\n",
    "np.savez('./data/training', image=x_train, label=y_train)\n",
    "np.savez('./data/validation', image=x_val, label=y_val)\n"
   ]
  },
  {
   "cell_type": "code",
   "execution_count": 8,
   "id": "74384b40-1b45-4a36-adb5-ca5b962fed23",
   "metadata": {},
   "outputs": [],
   "source": [
    "training_input_path = 'file://data/training.npz'\n",
    "validation_input_path = 'file://data/validation.npz'\n",
    "output_path = 'file:///tmp/model'\n"
   ]
  },
  {
   "cell_type": "markdown",
   "id": "a050f21c-420f-4a2f-95f5-f9a3363358f4",
   "metadata": {},
   "source": [
    "## 훈련 Estimator 정의 및 로컬 모드 실행"
   ]
  },
  {
   "cell_type": "code",
   "execution_count": 9,
   "id": "444ed0a4-54ae-4c5b-90b1-73da96242148",
   "metadata": {},
   "outputs": [],
   "source": [
    "from sagemaker.tensorflow import TensorFlow\n",
    "\n",
    "tf_estimator = TensorFlow(entry_point='mnist_keras_tf.py',\n",
    "                          role=role,\n",
    "                          instance_count=1, \n",
    "                          instance_type='local',   # Train on the local CPU ('local_gpu' if it has a GPU)\n",
    "                          framework_version='1.15', \n",
    "                          py_version='py3',\n",
    "                          hyperparameters={'epochs': 1},\n",
    "                          output_path=output_path\n",
    "                         )"
   ]
  },
  {
   "cell_type": "code",
   "execution_count": 10,
   "id": "c25d367b-ecf0-4ba6-8743-caa9116d45cf",
   "metadata": {},
   "outputs": [
    {
     "name": "stdout",
     "output_type": "stream",
     "text": [
      "Creating 9o0o340yw5-algo-1-ex34y ... \n",
      "Creating 9o0o340yw5-algo-1-ex34y ... done\n",
      "Docker Compose is now in the Docker CLI, try `docker compose up`\n",
      "\n",
      "Attaching to 9o0o340yw5-algo-1-ex34y\n",
      "\u001b[36m9o0o340yw5-algo-1-ex34y |\u001b[0m WARNING:tensorflow:From /usr/local/lib/python3.6/site-packages/tensorflow_core/__init__.py:1473: The name tf.estimator.inputs is deprecated. Please use tf.compat.v1.estimator.inputs instead.\n",
      "\u001b[36m9o0o340yw5-algo-1-ex34y |\u001b[0m \n",
      "\u001b[36m9o0o340yw5-algo-1-ex34y |\u001b[0m 2021-06-22 08:18:19,239 sagemaker-training-toolkit INFO     Imported framework sagemaker_tensorflow_container.training\n",
      "\u001b[36m9o0o340yw5-algo-1-ex34y |\u001b[0m 2021-06-22 08:18:19,249 sagemaker-training-toolkit INFO     No GPUs detected (normal if no gpus installed)\n",
      "\u001b[36m9o0o340yw5-algo-1-ex34y |\u001b[0m 2021-06-22 08:18:19,284 botocore.credentials INFO     Found credentials in environment variables.\n",
      "\u001b[36m9o0o340yw5-algo-1-ex34y |\u001b[0m 2021-06-22 08:18:19,486 sagemaker-training-toolkit INFO     No GPUs detected (normal if no gpus installed)\n",
      "\u001b[36m9o0o340yw5-algo-1-ex34y |\u001b[0m 2021-06-22 08:18:19,511 sagemaker-training-toolkit INFO     No GPUs detected (normal if no gpus installed)\n",
      "\u001b[36m9o0o340yw5-algo-1-ex34y |\u001b[0m 2021-06-22 08:18:19,532 sagemaker-training-toolkit INFO     No GPUs detected (normal if no gpus installed)\n",
      "\u001b[36m9o0o340yw5-algo-1-ex34y |\u001b[0m 2021-06-22 08:18:19,545 sagemaker-training-toolkit INFO     Invoking user script\n",
      "\u001b[36m9o0o340yw5-algo-1-ex34y |\u001b[0m \n",
      "\u001b[36m9o0o340yw5-algo-1-ex34y |\u001b[0m Training Env:\n",
      "\u001b[36m9o0o340yw5-algo-1-ex34y |\u001b[0m \n",
      "\u001b[36m9o0o340yw5-algo-1-ex34y |\u001b[0m {\n",
      "\u001b[36m9o0o340yw5-algo-1-ex34y |\u001b[0m     \"additional_framework_parameters\": {},\n",
      "\u001b[36m9o0o340yw5-algo-1-ex34y |\u001b[0m     \"channel_input_dirs\": {\n",
      "\u001b[36m9o0o340yw5-algo-1-ex34y |\u001b[0m         \"training\": \"/opt/ml/input/data/training\",\n",
      "\u001b[36m9o0o340yw5-algo-1-ex34y |\u001b[0m         \"validation\": \"/opt/ml/input/data/validation\"\n",
      "\u001b[36m9o0o340yw5-algo-1-ex34y |\u001b[0m     },\n",
      "\u001b[36m9o0o340yw5-algo-1-ex34y |\u001b[0m     \"current_host\": \"algo-1-ex34y\",\n",
      "\u001b[36m9o0o340yw5-algo-1-ex34y |\u001b[0m     \"framework_module\": \"sagemaker_tensorflow_container.training:main\",\n",
      "\u001b[36m9o0o340yw5-algo-1-ex34y |\u001b[0m     \"hosts\": [\n",
      "\u001b[36m9o0o340yw5-algo-1-ex34y |\u001b[0m         \"algo-1-ex34y\"\n",
      "\u001b[36m9o0o340yw5-algo-1-ex34y |\u001b[0m     ],\n",
      "\u001b[36m9o0o340yw5-algo-1-ex34y |\u001b[0m     \"hyperparameters\": {\n",
      "\u001b[36m9o0o340yw5-algo-1-ex34y |\u001b[0m         \"epochs\": 1,\n",
      "\u001b[36m9o0o340yw5-algo-1-ex34y |\u001b[0m         \"model_dir\": \"file:/tmp/model/tensorflow-training-2021-06-22-08-18-14-027/model\"\n",
      "\u001b[36m9o0o340yw5-algo-1-ex34y |\u001b[0m     },\n",
      "\u001b[36m9o0o340yw5-algo-1-ex34y |\u001b[0m     \"input_config_dir\": \"/opt/ml/input/config\",\n",
      "\u001b[36m9o0o340yw5-algo-1-ex34y |\u001b[0m     \"input_data_config\": {\n",
      "\u001b[36m9o0o340yw5-algo-1-ex34y |\u001b[0m         \"training\": {\n",
      "\u001b[36m9o0o340yw5-algo-1-ex34y |\u001b[0m             \"TrainingInputMode\": \"File\"\n",
      "\u001b[36m9o0o340yw5-algo-1-ex34y |\u001b[0m         },\n",
      "\u001b[36m9o0o340yw5-algo-1-ex34y |\u001b[0m         \"validation\": {\n",
      "\u001b[36m9o0o340yw5-algo-1-ex34y |\u001b[0m             \"TrainingInputMode\": \"File\"\n",
      "\u001b[36m9o0o340yw5-algo-1-ex34y |\u001b[0m         }\n",
      "\u001b[36m9o0o340yw5-algo-1-ex34y |\u001b[0m     },\n",
      "\u001b[36m9o0o340yw5-algo-1-ex34y |\u001b[0m     \"input_dir\": \"/opt/ml/input\",\n",
      "\u001b[36m9o0o340yw5-algo-1-ex34y |\u001b[0m     \"is_master\": true,\n",
      "\u001b[36m9o0o340yw5-algo-1-ex34y |\u001b[0m     \"job_name\": \"tensorflow-training-2021-06-22-08-18-14-027\",\n",
      "\u001b[36m9o0o340yw5-algo-1-ex34y |\u001b[0m     \"log_level\": 20,\n",
      "\u001b[36m9o0o340yw5-algo-1-ex34y |\u001b[0m     \"master_hostname\": \"algo-1-ex34y\",\n",
      "\u001b[36m9o0o340yw5-algo-1-ex34y |\u001b[0m     \"model_dir\": \"/opt/ml/model\",\n",
      "\u001b[36m9o0o340yw5-algo-1-ex34y |\u001b[0m     \"module_dir\": \"s3://sagemaker-ap-northeast-2-057716757052/tensorflow-training-2021-06-22-08-18-14-027/source/sourcedir.tar.gz\",\n",
      "\u001b[36m9o0o340yw5-algo-1-ex34y |\u001b[0m     \"module_name\": \"mnist_keras_tf\",\n",
      "\u001b[36m9o0o340yw5-algo-1-ex34y |\u001b[0m     \"network_interface_name\": \"eth0\",\n",
      "\u001b[36m9o0o340yw5-algo-1-ex34y |\u001b[0m     \"num_cpus\": 8,\n",
      "\u001b[36m9o0o340yw5-algo-1-ex34y |\u001b[0m     \"num_gpus\": 0,\n",
      "\u001b[36m9o0o340yw5-algo-1-ex34y |\u001b[0m     \"output_data_dir\": \"/opt/ml/output/data\",\n",
      "\u001b[36m9o0o340yw5-algo-1-ex34y |\u001b[0m     \"output_dir\": \"/opt/ml/output\",\n",
      "\u001b[36m9o0o340yw5-algo-1-ex34y |\u001b[0m     \"output_intermediate_dir\": \"/opt/ml/output/intermediate\",\n",
      "\u001b[36m9o0o340yw5-algo-1-ex34y |\u001b[0m     \"resource_config\": {\n",
      "\u001b[36m9o0o340yw5-algo-1-ex34y |\u001b[0m         \"current_host\": \"algo-1-ex34y\",\n",
      "\u001b[36m9o0o340yw5-algo-1-ex34y |\u001b[0m         \"hosts\": [\n",
      "\u001b[36m9o0o340yw5-algo-1-ex34y |\u001b[0m             \"algo-1-ex34y\"\n",
      "\u001b[36m9o0o340yw5-algo-1-ex34y |\u001b[0m         ]\n",
      "\u001b[36m9o0o340yw5-algo-1-ex34y |\u001b[0m     },\n",
      "\u001b[36m9o0o340yw5-algo-1-ex34y |\u001b[0m     \"user_entry_point\": \"mnist_keras_tf.py\"\n",
      "\u001b[36m9o0o340yw5-algo-1-ex34y |\u001b[0m }\n",
      "\u001b[36m9o0o340yw5-algo-1-ex34y |\u001b[0m \n",
      "\u001b[36m9o0o340yw5-algo-1-ex34y |\u001b[0m Environment variables:\n",
      "\u001b[36m9o0o340yw5-algo-1-ex34y |\u001b[0m \n",
      "\u001b[36m9o0o340yw5-algo-1-ex34y |\u001b[0m SM_HOSTS=[\"algo-1-ex34y\"]\n",
      "\u001b[36m9o0o340yw5-algo-1-ex34y |\u001b[0m SM_NETWORK_INTERFACE_NAME=eth0\n",
      "\u001b[36m9o0o340yw5-algo-1-ex34y |\u001b[0m SM_HPS={\"epochs\":1,\"model_dir\":\"file:/tmp/model/tensorflow-training-2021-06-22-08-18-14-027/model\"}\n",
      "\u001b[36m9o0o340yw5-algo-1-ex34y |\u001b[0m SM_USER_ENTRY_POINT=mnist_keras_tf.py\n",
      "\u001b[36m9o0o340yw5-algo-1-ex34y |\u001b[0m SM_FRAMEWORK_PARAMS={}\n",
      "\u001b[36m9o0o340yw5-algo-1-ex34y |\u001b[0m SM_RESOURCE_CONFIG={\"current_host\":\"algo-1-ex34y\",\"hosts\":[\"algo-1-ex34y\"]}\n",
      "\u001b[36m9o0o340yw5-algo-1-ex34y |\u001b[0m SM_INPUT_DATA_CONFIG={\"training\":{\"TrainingInputMode\":\"File\"},\"validation\":{\"TrainingInputMode\":\"File\"}}\n",
      "\u001b[36m9o0o340yw5-algo-1-ex34y |\u001b[0m SM_OUTPUT_DATA_DIR=/opt/ml/output/data\n",
      "\u001b[36m9o0o340yw5-algo-1-ex34y |\u001b[0m SM_CHANNELS=[\"training\",\"validation\"]\n",
      "\u001b[36m9o0o340yw5-algo-1-ex34y |\u001b[0m SM_CURRENT_HOST=algo-1-ex34y\n",
      "\u001b[36m9o0o340yw5-algo-1-ex34y |\u001b[0m SM_MODULE_NAME=mnist_keras_tf\n",
      "\u001b[36m9o0o340yw5-algo-1-ex34y |\u001b[0m SM_LOG_LEVEL=20\n",
      "\u001b[36m9o0o340yw5-algo-1-ex34y |\u001b[0m SM_FRAMEWORK_MODULE=sagemaker_tensorflow_container.training:main\n",
      "\u001b[36m9o0o340yw5-algo-1-ex34y |\u001b[0m SM_INPUT_DIR=/opt/ml/input\n",
      "\u001b[36m9o0o340yw5-algo-1-ex34y |\u001b[0m SM_INPUT_CONFIG_DIR=/opt/ml/input/config\n",
      "\u001b[36m9o0o340yw5-algo-1-ex34y |\u001b[0m SM_OUTPUT_DIR=/opt/ml/output\n",
      "\u001b[36m9o0o340yw5-algo-1-ex34y |\u001b[0m SM_NUM_CPUS=8\n",
      "\u001b[36m9o0o340yw5-algo-1-ex34y |\u001b[0m SM_NUM_GPUS=0\n",
      "\u001b[36m9o0o340yw5-algo-1-ex34y |\u001b[0m SM_MODEL_DIR=/opt/ml/model\n",
      "\u001b[36m9o0o340yw5-algo-1-ex34y |\u001b[0m SM_MODULE_DIR=s3://sagemaker-ap-northeast-2-057716757052/tensorflow-training-2021-06-22-08-18-14-027/source/sourcedir.tar.gz\n",
      "\u001b[36m9o0o340yw5-algo-1-ex34y |\u001b[0m SM_TRAINING_ENV={\"additional_framework_parameters\":{},\"channel_input_dirs\":{\"training\":\"/opt/ml/input/data/training\",\"validation\":\"/opt/ml/input/data/validation\"},\"current_host\":\"algo-1-ex34y\",\"framework_module\":\"sagemaker_tensorflow_container.training:main\",\"hosts\":[\"algo-1-ex34y\"],\"hyperparameters\":{\"epochs\":1,\"model_dir\":\"file:/tmp/model/tensorflow-training-2021-06-22-08-18-14-027/model\"},\"input_config_dir\":\"/opt/ml/input/config\",\"input_data_config\":{\"training\":{\"TrainingInputMode\":\"File\"},\"validation\":{\"TrainingInputMode\":\"File\"}},\"input_dir\":\"/opt/ml/input\",\"is_master\":true,\"job_name\":\"tensorflow-training-2021-06-22-08-18-14-027\",\"log_level\":20,\"master_hostname\":\"algo-1-ex34y\",\"model_dir\":\"/opt/ml/model\",\"module_dir\":\"s3://sagemaker-ap-northeast-2-057716757052/tensorflow-training-2021-06-22-08-18-14-027/source/sourcedir.tar.gz\",\"module_name\":\"mnist_keras_tf\",\"network_interface_name\":\"eth0\",\"num_cpus\":8,\"num_gpus\":0,\"output_data_dir\":\"/opt/ml/output/data\",\"output_dir\":\"/opt/ml/output\",\"output_intermediate_dir\":\"/opt/ml/output/intermediate\",\"resource_config\":{\"current_host\":\"algo-1-ex34y\",\"hosts\":[\"algo-1-ex34y\"]},\"user_entry_point\":\"mnist_keras_tf.py\"}\n",
      "\u001b[36m9o0o340yw5-algo-1-ex34y |\u001b[0m SM_USER_ARGS=[\"--epochs\",\"1\",\"--model_dir\",\"file:/tmp/model/tensorflow-training-2021-06-22-08-18-14-027/model\"]\n",
      "\u001b[36m9o0o340yw5-algo-1-ex34y |\u001b[0m SM_OUTPUT_INTERMEDIATE_DIR=/opt/ml/output/intermediate\n",
      "\u001b[36m9o0o340yw5-algo-1-ex34y |\u001b[0m SM_CHANNEL_TRAINING=/opt/ml/input/data/training\n",
      "\u001b[36m9o0o340yw5-algo-1-ex34y |\u001b[0m SM_CHANNEL_VALIDATION=/opt/ml/input/data/validation\n",
      "\u001b[36m9o0o340yw5-algo-1-ex34y |\u001b[0m SM_HP_EPOCHS=1\n",
      "\u001b[36m9o0o340yw5-algo-1-ex34y |\u001b[0m SM_HP_MODEL_DIR=file:/tmp/model/tensorflow-training-2021-06-22-08-18-14-027/model\n",
      "\u001b[36m9o0o340yw5-algo-1-ex34y |\u001b[0m PYTHONPATH=/opt/ml/code:/usr/local/bin:/usr/local/lib/python36.zip:/usr/local/lib/python3.6:/usr/local/lib/python3.6/lib-dynload:/usr/local/lib/python3.6/site-packages\n",
      "\u001b[36m9o0o340yw5-algo-1-ex34y |\u001b[0m \n",
      "\u001b[36m9o0o340yw5-algo-1-ex34y |\u001b[0m Invoking script with the following command:\n",
      "\u001b[36m9o0o340yw5-algo-1-ex34y |\u001b[0m \n",
      "\u001b[36m9o0o340yw5-algo-1-ex34y |\u001b[0m /usr/local/bin/python3.6 mnist_keras_tf.py --epochs 1 --model_dir file:/tmp/model/tensorflow-training-2021-06-22-08-18-14-027/model\n",
      "\u001b[36m9o0o340yw5-algo-1-ex34y |\u001b[0m \n",
      "\u001b[36m9o0o340yw5-algo-1-ex34y |\u001b[0m \n",
      "\u001b[36m9o0o340yw5-algo-1-ex34y |\u001b[0m Collecting keras-metrics\n",
      "\u001b[36m9o0o340yw5-algo-1-ex34y |\u001b[0m   Downloading keras_metrics-1.1.0-py2.py3-none-any.whl (5.6 kB)\n",
      "\u001b[36m9o0o340yw5-algo-1-ex34y |\u001b[0m Requirement already satisfied: Keras>=2.1.5 in /usr/local/lib/python3.6/site-packages (from keras-metrics) (2.3.1)\n",
      "\u001b[36m9o0o340yw5-algo-1-ex34y |\u001b[0m Requirement already satisfied: numpy>=1.9.1 in /usr/local/lib/python3.6/site-packages (from Keras>=2.1.5->keras-metrics) (1.18.5)\n",
      "\u001b[36m9o0o340yw5-algo-1-ex34y |\u001b[0m Requirement already satisfied: keras-preprocessing>=1.0.5 in /usr/local/lib/python3.6/site-packages (from Keras>=2.1.5->keras-metrics) (1.1.2)\n",
      "\u001b[36m9o0o340yw5-algo-1-ex34y |\u001b[0m Requirement already satisfied: six>=1.9.0 in /usr/local/lib/python3.6/site-packages (from Keras>=2.1.5->keras-metrics) (1.15.0)\n",
      "\u001b[36m9o0o340yw5-algo-1-ex34y |\u001b[0m Requirement already satisfied: h5py in /usr/local/lib/python3.6/site-packages (from Keras>=2.1.5->keras-metrics) (2.9.0)\n",
      "\u001b[36m9o0o340yw5-algo-1-ex34y |\u001b[0m Requirement already satisfied: pyyaml in /usr/local/lib/python3.6/site-packages (from Keras>=2.1.5->keras-metrics) (5.4.1)\n",
      "\u001b[36m9o0o340yw5-algo-1-ex34y |\u001b[0m Requirement already satisfied: scipy>=0.14 in /usr/local/lib/python3.6/site-packages (from Keras>=2.1.5->keras-metrics) (1.2.2)\n",
      "\u001b[36m9o0o340yw5-algo-1-ex34y |\u001b[0m Requirement already satisfied: keras-applications>=1.0.6 in /usr/local/lib/python3.6/site-packages (from Keras>=2.1.5->keras-metrics) (1.0.8)\n",
      "\u001b[36m9o0o340yw5-algo-1-ex34y |\u001b[0m Installing collected packages: keras-metrics\n",
      "\u001b[36m9o0o340yw5-algo-1-ex34y |\u001b[0m Successfully installed keras-metrics-1.1.0\n",
      "\u001b[36m9o0o340yw5-algo-1-ex34y |\u001b[0m x_train shape: (60000, 28, 28, 1)\n",
      "\u001b[36m9o0o340yw5-algo-1-ex34y |\u001b[0m 60000 train samples\n",
      "\u001b[36m9o0o340yw5-algo-1-ex34y |\u001b[0m 10000 test samples\n",
      "\u001b[36m9o0o340yw5-algo-1-ex34y |\u001b[0m Model: \"sequential\"\n",
      "\u001b[36m9o0o340yw5-algo-1-ex34y |\u001b[0m _________________________________________________________________\n",
      "\u001b[36m9o0o340yw5-algo-1-ex34y |\u001b[0m Layer (type)                 Output Shape              Param #   \n",
      "\u001b[36m9o0o340yw5-algo-1-ex34y |\u001b[0m =================================================================\n",
      "\u001b[36m9o0o340yw5-algo-1-ex34y |\u001b[0m conv2d (Conv2D)              (None, 28, 28, 64)        640       \n",
      "\u001b[36m9o0o340yw5-algo-1-ex34y |\u001b[0m _________________________________________________________________\n",
      "\u001b[36m9o0o340yw5-algo-1-ex34y |\u001b[0m batch_normalization (BatchNo (None, 28, 28, 64)        256       \n",
      "\u001b[36m9o0o340yw5-algo-1-ex34y |\u001b[0m _________________________________________________________________\n",
      "\u001b[36m9o0o340yw5-algo-1-ex34y |\u001b[0m activation (Activation)      (None, 28, 28, 64)        0         \n",
      "\u001b[36m9o0o340yw5-algo-1-ex34y |\u001b[0m _________________________________________________________________\n",
      "\u001b[36m9o0o340yw5-algo-1-ex34y |\u001b[0m max_pooling2d (MaxPooling2D) (None, 14, 14, 64)        0         \n",
      "\u001b[36m9o0o340yw5-algo-1-ex34y |\u001b[0m _________________________________________________________________\n",
      "\u001b[36m9o0o340yw5-algo-1-ex34y |\u001b[0m conv2d_1 (Conv2D)            (None, 12, 12, 128)       73856     \n",
      "\u001b[36m9o0o340yw5-algo-1-ex34y |\u001b[0m _________________________________________________________________\n",
      "\u001b[36m9o0o340yw5-algo-1-ex34y |\u001b[0m batch_normalization_1 (Batch (None, 12, 12, 128)       512       \n",
      "\u001b[36m9o0o340yw5-algo-1-ex34y |\u001b[0m _________________________________________________________________\n",
      "\u001b[36m9o0o340yw5-algo-1-ex34y |\u001b[0m activation_1 (Activation)    (None, 12, 12, 128)       0         \n",
      "\u001b[36m9o0o340yw5-algo-1-ex34y |\u001b[0m _________________________________________________________________\n",
      "\u001b[36m9o0o340yw5-algo-1-ex34y |\u001b[0m max_pooling2d_1 (MaxPooling2 (None, 6, 6, 128)         0         \n",
      "\u001b[36m9o0o340yw5-algo-1-ex34y |\u001b[0m _________________________________________________________________\n",
      "\u001b[36m9o0o340yw5-algo-1-ex34y |\u001b[0m flatten (Flatten)            (None, 4608)              0         \n",
      "\u001b[36m9o0o340yw5-algo-1-ex34y |\u001b[0m _________________________________________________________________\n",
      "\u001b[36m9o0o340yw5-algo-1-ex34y |\u001b[0m dense (Dense)                (None, 512)               2359808   \n",
      "\u001b[36m9o0o340yw5-algo-1-ex34y |\u001b[0m _________________________________________________________________\n",
      "\u001b[36m9o0o340yw5-algo-1-ex34y |\u001b[0m activation_2 (Activation)    (None, 512)               0         \n",
      "\u001b[36m9o0o340yw5-algo-1-ex34y |\u001b[0m _________________________________________________________________\n",
      "\u001b[36m9o0o340yw5-algo-1-ex34y |\u001b[0m dropout (Dropout)            (None, 512)               0         \n",
      "\u001b[36m9o0o340yw5-algo-1-ex34y |\u001b[0m _________________________________________________________________\n",
      "\u001b[36m9o0o340yw5-algo-1-ex34y |\u001b[0m dense_1 (Dense)              (None, 10)                5130      \n",
      "\u001b[36m9o0o340yw5-algo-1-ex34y |\u001b[0m =================================================================\n",
      "\u001b[36m9o0o340yw5-algo-1-ex34y |\u001b[0m Total params: 2,440,202\n",
      "\u001b[36m9o0o340yw5-algo-1-ex34y |\u001b[0m Trainable params: 2,439,818\n",
      "\u001b[36m9o0o340yw5-algo-1-ex34y |\u001b[0m Non-trainable params: 384\n",
      "\u001b[36m9o0o340yw5-algo-1-ex34y |\u001b[0m _________________________________________________________________\n",
      "\u001b[36m9o0o340yw5-algo-1-ex34y |\u001b[0m None\n",
      "\u001b[36m9o0o340yw5-algo-1-ex34y |\u001b[0m tracking <tf.Variable 'Variable:0' shape=() dtype=int32> tp\n",
      "\u001b[36m9o0o340yw5-algo-1-ex34y |\u001b[0m tracking <tf.Variable 'Variable_1:0' shape=() dtype=int32> fp\n",
      "\u001b[36m9o0o340yw5-algo-1-ex34y |\u001b[0m tracking <tf.Variable 'Variable_2:0' shape=() dtype=int32> tp\n",
      "\u001b[36m9o0o340yw5-algo-1-ex34y |\u001b[0m tracking <tf.Variable 'Variable_3:0' shape=() dtype=int32> fn\n",
      "\u001b[36m9o0o340yw5-algo-1-ex34y |\u001b[0m tracking <tf.Variable 'Variable_4:0' shape=() dtype=int32> tp\n",
      "\u001b[36m9o0o340yw5-algo-1-ex34y |\u001b[0m tracking <tf.Variable 'Variable_5:0' shape=() dtype=int32> fp\n",
      "\u001b[36m9o0o340yw5-algo-1-ex34y |\u001b[0m tracking <tf.Variable 'Variable_6:0' shape=() dtype=int32> tp\n",
      "\u001b[36m9o0o340yw5-algo-1-ex34y |\u001b[0m tracking <tf.Variable 'Variable_7:0' shape=() dtype=int32> fn\n",
      "\u001b[36m9o0o340yw5-algo-1-ex34y |\u001b[0m Train on 60000 samples, validate on 10000 samples\n",
      "60000/60000 [==============================] - 80s 1ms/sample - loss: 0.4470 - acc: 0.8444 - precision: 0.8144 - recall: 0.7703 - f1_score: 0.7809 - val_loss: 0.5101 - val_acc: 0.7956 - val_precision: 0.7719 - val_recall: 0.8387 - val_f1_score: 0.7960\n",
      "\u001b[36m9o0o340yw5-algo-1-ex34y |\u001b[0m Validation loss    : 0.5101211849689483\n",
      "\u001b[36m9o0o340yw5-algo-1-ex34y |\u001b[0m Validation accuracy: 0.7956\n",
      "\u001b[36m9o0o340yw5-algo-1-ex34y |\u001b[0m WARNING:tensorflow:From /usr/local/lib/python3.6/site-packages/tensorflow_core/__init__.py:1473: The name tf.estimator.inputs is deprecated. Please use tf.compat.v1.estimator.inputs instead.\n",
      "\u001b[36m9o0o340yw5-algo-1-ex34y |\u001b[0m \n",
      "\u001b[36m9o0o340yw5-algo-1-ex34y |\u001b[0m Using TensorFlow backend.\n",
      "\u001b[36m9o0o340yw5-algo-1-ex34y |\u001b[0m WARNING: You are using pip version 21.0.1; however, version 21.1.2 is available.\n",
      "\u001b[36m9o0o340yw5-algo-1-ex34y |\u001b[0m You should consider upgrading via the '/usr/local/bin/python3.6 -m pip install --upgrade pip' command.\n",
      "\u001b[36m9o0o340yw5-algo-1-ex34y |\u001b[0m WARNING:tensorflow:From /usr/local/lib/python3.6/site-packages/tensorflow_core/python/ops/resource_variable_ops.py:1630: calling BaseResourceVariable.__init__ (from tensorflow.python.ops.resource_variable_ops) with constraint is deprecated and will be removed in a future version.\n",
      "\u001b[36m9o0o340yw5-algo-1-ex34y |\u001b[0m Instructions for updating:\n",
      "\u001b[36m9o0o340yw5-algo-1-ex34y |\u001b[0m If using Keras pass *_constraint arguments to layers.\n",
      "\u001b[36m9o0o340yw5-algo-1-ex34y |\u001b[0m WARNING:tensorflow:From mnist_keras_tf.py:156: simple_save (from tensorflow.python.saved_model.simple_save) is deprecated and will be removed in a future version.\n",
      "\u001b[36m9o0o340yw5-algo-1-ex34y |\u001b[0m Instructions for updating:\n",
      "\u001b[36m9o0o340yw5-algo-1-ex34y |\u001b[0m This function will only be available through the v1 compatibility library as tf.compat.v1.saved_model.simple_save.\n",
      "\u001b[36m9o0o340yw5-algo-1-ex34y |\u001b[0m WARNING:tensorflow:From mnist_keras_tf.py:156: simple_save (from tensorflow.python.saved_model.simple_save) is deprecated and will be removed in a future version.\n",
      "\u001b[36m9o0o340yw5-algo-1-ex34y |\u001b[0m Instructions for updating:\n",
      "\u001b[36m9o0o340yw5-algo-1-ex34y |\u001b[0m This function will only be available through the v1 compatibility library as tf.compat.v1.saved_model.simple_save.\n",
      "\u001b[36m9o0o340yw5-algo-1-ex34y |\u001b[0m WARNING:tensorflow:From /usr/local/lib/python3.6/site-packages/tensorflow_core/python/saved_model/signature_def_utils_impl.py:201: build_tensor_info (from tensorflow.python.saved_model.utils_impl) is deprecated and will be removed in a future version.\n",
      "\u001b[36m9o0o340yw5-algo-1-ex34y |\u001b[0m Instructions for updating:\n",
      "\u001b[36m9o0o340yw5-algo-1-ex34y |\u001b[0m This function will only be available through the v1 compatibility library as tf.compat.v1.saved_model.utils.build_tensor_info or tf.compat.v1.saved_model.build_tensor_info.\n",
      "\u001b[36m9o0o340yw5-algo-1-ex34y |\u001b[0m WARNING:tensorflow:From /usr/local/lib/python3.6/site-packages/tensorflow_core/python/saved_model/signature_def_utils_impl.py:201: build_tensor_info (from tensorflow.python.saved_model.utils_impl) is deprecated and will be removed in a future version.\n",
      "\u001b[36m9o0o340yw5-algo-1-ex34y |\u001b[0m Instructions for updating:\n",
      "\u001b[36m9o0o340yw5-algo-1-ex34y |\u001b[0m This function will only be available through the v1 compatibility library as tf.compat.v1.saved_model.utils.build_tensor_info or tf.compat.v1.saved_model.build_tensor_info.\n",
      "\u001b[36m9o0o340yw5-algo-1-ex34y |\u001b[0m INFO:tensorflow:Assets added to graph.\n",
      "\u001b[36m9o0o340yw5-algo-1-ex34y |\u001b[0m INFO:tensorflow:Assets added to graph.\n",
      "\u001b[36m9o0o340yw5-algo-1-ex34y |\u001b[0m INFO:tensorflow:No assets to write.\n",
      "\u001b[36m9o0o340yw5-algo-1-ex34y |\u001b[0m INFO:tensorflow:No assets to write.\n",
      "\u001b[36m9o0o340yw5-algo-1-ex34y |\u001b[0m INFO:tensorflow:SavedModel written to: /opt/ml/model/model/1/saved_model.pb\n",
      "\u001b[36m9o0o340yw5-algo-1-ex34y |\u001b[0m INFO:tensorflow:SavedModel written to: /opt/ml/model/model/1/saved_model.pb\n",
      "\u001b[36m9o0o340yw5-algo-1-ex34y |\u001b[0m \n",
      "\u001b[36m9o0o340yw5-algo-1-ex34y |\u001b[0m 2021-06-22 08:19:53,832 sagemaker-training-toolkit INFO     Reporting training SUCCESS\n",
      "\u001b[36m9o0o340yw5-algo-1-ex34y exited with code 0\n",
      "\u001b[0mAborting on container exit...\n",
      "===== Job Complete =====\n"
     ]
    }
   ],
   "source": [
    "# Train! This will pull (once) the SageMaker CPU/GPU container for TensorFlow to your local machine.\n",
    "# Make sure that Docker is running and that docker-compose is installed\n",
    "\n",
    "tf_estimator.fit({'training': training_input_path, 'validation': validation_input_path})"
   ]
  },
  {
   "cell_type": "code",
   "execution_count": 11,
   "id": "ba50abce-20f6-4c60-9efe-a799098e36b0",
   "metadata": {},
   "outputs": [
    {
     "name": "stdout",
     "output_type": "stream",
     "text": [
      "763104351884.dkr.ecr.ap-northeast-2.amazonaws.com/tensorflow-training   1.15-cpu-py3   9b598117e095   2 months ago    1.94GB\n"
     ]
    }
   ],
   "source": [
    "!docker images | grep tensorflow"
   ]
  },
  {
   "cell_type": "code",
   "execution_count": 12,
   "id": "68e9c833-0511-4f39-8de8-3a30e8541474",
   "metadata": {},
   "outputs": [
    {
     "name": "stdout",
     "output_type": "stream",
     "text": [
      "drwxr-xr-x  0 moongons 1896053708  0 Jun 22 17:19 model/\n",
      "drwxr-xr-x  0 moongons 1896053708  0 Jun 22 17:19 model/1/\n",
      "-rw-r--r--  0 moongons 1896053708 218515 Jun 22 17:19 model/1/saved_model.pb\n",
      "drwxr-xr-x  0 moongons 1896053708      0 Jun 22 17:19 model/1/variables/\n",
      "-rw-r--r--  0 moongons 1896053708 19520132 Jun 22 17:19 model/1/variables/variables.data-00000-of-00001\n",
      "-rw-r--r--  0 moongons 1896053708     1500 Jun 22 17:19 model/1/variables/variables.index\n"
     ]
    }
   ],
   "source": [
    "!tar tvfz /tmp/model/model.tar.gz"
   ]
  },
  {
   "cell_type": "code",
   "execution_count": null,
   "id": "8ee6d45b-d7b8-44ea-88c2-e174613cf2f2",
   "metadata": {},
   "outputs": [],
   "source": []
  },
  {
   "cell_type": "code",
   "execution_count": null,
   "id": "132d7ef8-59c4-483e-8b15-1fd28d965c6c",
   "metadata": {},
   "outputs": [],
   "source": []
  },
  {
   "cell_type": "code",
   "execution_count": null,
   "id": "3460371f-5c4a-47cb-b798-8473d0f034c8",
   "metadata": {},
   "outputs": [],
   "source": []
  }
 ],
 "metadata": {
  "kernelspec": {
   "display_name": "sagemaker",
   "language": "python",
   "name": "sagemaker"
  },
  "language_info": {
   "codemirror_mode": {
    "name": "ipython",
    "version": 3
   },
   "file_extension": ".py",
   "mimetype": "text/x-python",
   "name": "python",
   "nbconvert_exporter": "python",
   "pygments_lexer": "ipython3",
   "version": "3.9.5"
  }
 },
 "nbformat": 4,
 "nbformat_minor": 5
}
