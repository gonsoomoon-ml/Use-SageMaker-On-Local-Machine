{
 "cells": [
  {
   "cell_type": "markdown",
   "id": "809956d3-90fe-48b3-a699-508a8fbaf736",
   "metadata": {},
   "source": [
    "# [모듈 1.1] 환경 셋업\n",
    "\n",
    "- 커널을 'sagemaker' 로 설정하고, 모든 노트북으로 같은 커널을 사용하세요\n",
    "---\n"
   ]
  },
  {
   "cell_type": "code",
   "execution_count": 1,
   "id": "c3d42e79-c461-443d-880f-52ca22fd11de",
   "metadata": {},
   "outputs": [
    {
     "name": "stdout",
     "output_type": "stream",
     "text": [
      "Requirement already satisfied: keras in /Users/moongons/.conda/envs/sagemaker/lib/python3.9/site-packages (2.4.3)\n",
      "Requirement already satisfied: h5py in /Users/moongons/.conda/envs/sagemaker/lib/python3.9/site-packages (from keras) (3.1.0)\n",
      "Requirement already satisfied: scipy>=0.14 in /Users/moongons/.conda/envs/sagemaker/lib/python3.9/site-packages (from keras) (1.7.0)\n",
      "Requirement already satisfied: numpy>=1.9.1 in /Users/moongons/.conda/envs/sagemaker/lib/python3.9/site-packages (from keras) (1.19.5)\n",
      "Requirement already satisfied: pyyaml in /Users/moongons/.conda/envs/sagemaker/lib/python3.9/site-packages (from keras) (5.4.1)\n"
     ]
    }
   ],
   "source": [
    "! pip install keras"
   ]
  },
  {
   "cell_type": "code",
   "execution_count": 2,
   "id": "29ad81a7-16a7-4786-8363-3cc32a5942d4",
   "metadata": {},
   "outputs": [
    {
     "name": "stdout",
     "output_type": "stream",
     "text": [
      "Requirement already satisfied: tensorflow in /Users/moongons/.conda/envs/sagemaker/lib/python3.9/site-packages (2.5.0)\n",
      "Requirement already satisfied: google-pasta~=0.2 in /Users/moongons/.conda/envs/sagemaker/lib/python3.9/site-packages (from tensorflow) (0.2.0)\n",
      "Requirement already satisfied: wheel~=0.35 in /Users/moongons/.conda/envs/sagemaker/lib/python3.9/site-packages (from tensorflow) (0.36.2)\n",
      "Requirement already satisfied: numpy~=1.19.2 in /Users/moongons/.conda/envs/sagemaker/lib/python3.9/site-packages (from tensorflow) (1.19.5)\n",
      "Requirement already satisfied: keras-nightly~=2.5.0.dev in /Users/moongons/.conda/envs/sagemaker/lib/python3.9/site-packages (from tensorflow) (2.5.0.dev2021032900)\n",
      "Requirement already satisfied: h5py~=3.1.0 in /Users/moongons/.conda/envs/sagemaker/lib/python3.9/site-packages (from tensorflow) (3.1.0)\n",
      "Requirement already satisfied: six~=1.15.0 in /Users/moongons/.conda/envs/sagemaker/lib/python3.9/site-packages (from tensorflow) (1.15.0)\n",
      "Requirement already satisfied: typing-extensions~=3.7.4 in /Users/moongons/.conda/envs/sagemaker/lib/python3.9/site-packages (from tensorflow) (3.7.4.3)\n",
      "Requirement already satisfied: protobuf>=3.9.2 in /Users/moongons/.conda/envs/sagemaker/lib/python3.9/site-packages (from tensorflow) (3.17.3)\n",
      "Requirement already satisfied: grpcio~=1.34.0 in /Users/moongons/.conda/envs/sagemaker/lib/python3.9/site-packages (from tensorflow) (1.34.1)\n",
      "Requirement already satisfied: flatbuffers~=1.12.0 in /Users/moongons/.conda/envs/sagemaker/lib/python3.9/site-packages (from tensorflow) (1.12)\n",
      "Requirement already satisfied: opt-einsum~=3.3.0 in /Users/moongons/.conda/envs/sagemaker/lib/python3.9/site-packages (from tensorflow) (3.3.0)\n",
      "Requirement already satisfied: absl-py~=0.10 in /Users/moongons/.conda/envs/sagemaker/lib/python3.9/site-packages (from tensorflow) (0.13.0)\n",
      "Requirement already satisfied: astunparse~=1.6.3 in /Users/moongons/.conda/envs/sagemaker/lib/python3.9/site-packages (from tensorflow) (1.6.3)\n",
      "Requirement already satisfied: gast==0.4.0 in /Users/moongons/.conda/envs/sagemaker/lib/python3.9/site-packages (from tensorflow) (0.4.0)\n",
      "Requirement already satisfied: termcolor~=1.1.0 in /Users/moongons/.conda/envs/sagemaker/lib/python3.9/site-packages (from tensorflow) (1.1.0)\n",
      "Requirement already satisfied: tensorboard~=2.5 in /Users/moongons/.conda/envs/sagemaker/lib/python3.9/site-packages (from tensorflow) (2.5.0)\n",
      "Requirement already satisfied: keras-preprocessing~=1.1.2 in /Users/moongons/.conda/envs/sagemaker/lib/python3.9/site-packages (from tensorflow) (1.1.2)\n",
      "Requirement already satisfied: wrapt~=1.12.1 in /Users/moongons/.conda/envs/sagemaker/lib/python3.9/site-packages (from tensorflow) (1.12.1)\n",
      "Requirement already satisfied: tensorflow-estimator<2.6.0,>=2.5.0rc0 in /Users/moongons/.conda/envs/sagemaker/lib/python3.9/site-packages (from tensorflow) (2.5.0)\n",
      "Requirement already satisfied: google-auth-oauthlib<0.5,>=0.4.1 in /Users/moongons/.conda/envs/sagemaker/lib/python3.9/site-packages (from tensorboard~=2.5->tensorflow) (0.4.4)\n",
      "Requirement already satisfied: werkzeug>=0.11.15 in /Users/moongons/.conda/envs/sagemaker/lib/python3.9/site-packages (from tensorboard~=2.5->tensorflow) (2.0.1)\n",
      "Requirement already satisfied: tensorboard-data-server<0.7.0,>=0.6.0 in /Users/moongons/.conda/envs/sagemaker/lib/python3.9/site-packages (from tensorboard~=2.5->tensorflow) (0.6.1)\n",
      "Requirement already satisfied: google-auth<2,>=1.6.3 in /Users/moongons/.conda/envs/sagemaker/lib/python3.9/site-packages (from tensorboard~=2.5->tensorflow) (1.32.0)\n",
      "Requirement already satisfied: markdown>=2.6.8 in /Users/moongons/.conda/envs/sagemaker/lib/python3.9/site-packages (from tensorboard~=2.5->tensorflow) (3.3.4)\n",
      "Requirement already satisfied: setuptools>=41.0.0 in /Users/moongons/.conda/envs/sagemaker/lib/python3.9/site-packages (from tensorboard~=2.5->tensorflow) (52.0.0.post20210125)\n",
      "Requirement already satisfied: tensorboard-plugin-wit>=1.6.0 in /Users/moongons/.conda/envs/sagemaker/lib/python3.9/site-packages (from tensorboard~=2.5->tensorflow) (1.8.0)\n",
      "Requirement already satisfied: requests<3,>=2.21.0 in /Users/moongons/.conda/envs/sagemaker/lib/python3.9/site-packages (from tensorboard~=2.5->tensorflow) (2.25.1)\n",
      "Requirement already satisfied: cachetools<5.0,>=2.0.0 in /Users/moongons/.conda/envs/sagemaker/lib/python3.9/site-packages (from google-auth<2,>=1.6.3->tensorboard~=2.5->tensorflow) (4.2.2)\n",
      "Requirement already satisfied: pyasn1-modules>=0.2.1 in /Users/moongons/.conda/envs/sagemaker/lib/python3.9/site-packages (from google-auth<2,>=1.6.3->tensorboard~=2.5->tensorflow) (0.2.8)\n",
      "Requirement already satisfied: rsa<5,>=3.1.4 in /Users/moongons/.conda/envs/sagemaker/lib/python3.9/site-packages (from google-auth<2,>=1.6.3->tensorboard~=2.5->tensorflow) (4.7.2)\n",
      "Requirement already satisfied: requests-oauthlib>=0.7.0 in /Users/moongons/.conda/envs/sagemaker/lib/python3.9/site-packages (from google-auth-oauthlib<0.5,>=0.4.1->tensorboard~=2.5->tensorflow) (1.3.0)\n",
      "Requirement already satisfied: pyasn1<0.5.0,>=0.4.6 in /Users/moongons/.conda/envs/sagemaker/lib/python3.9/site-packages (from pyasn1-modules>=0.2.1->google-auth<2,>=1.6.3->tensorboard~=2.5->tensorflow) (0.4.8)\n",
      "Requirement already satisfied: idna<3,>=2.5 in /Users/moongons/.conda/envs/sagemaker/lib/python3.9/site-packages (from requests<3,>=2.21.0->tensorboard~=2.5->tensorflow) (2.10)\n",
      "Requirement already satisfied: urllib3<1.27,>=1.21.1 in /Users/moongons/.conda/envs/sagemaker/lib/python3.9/site-packages (from requests<3,>=2.21.0->tensorboard~=2.5->tensorflow) (1.26.5)\n",
      "Requirement already satisfied: certifi>=2017.4.17 in /Users/moongons/.conda/envs/sagemaker/lib/python3.9/site-packages (from requests<3,>=2.21.0->tensorboard~=2.5->tensorflow) (2021.5.30)\n",
      "Requirement already satisfied: chardet<5,>=3.0.2 in /Users/moongons/.conda/envs/sagemaker/lib/python3.9/site-packages (from requests<3,>=2.21.0->tensorboard~=2.5->tensorflow) (4.0.0)\n",
      "Requirement already satisfied: oauthlib>=3.0.0 in /Users/moongons/.conda/envs/sagemaker/lib/python3.9/site-packages (from requests-oauthlib>=0.7.0->google-auth-oauthlib<0.5,>=0.4.1->tensorboard~=2.5->tensorflow) (3.1.1)\n"
     ]
    }
   ],
   "source": [
    "! pip install tensorflow"
   ]
  },
  {
   "cell_type": "code",
   "execution_count": null,
   "id": "842ab683-e19a-4a8a-a2e4-031d903fa8cb",
   "metadata": {},
   "outputs": [],
   "source": []
  }
 ],
 "metadata": {
  "kernelspec": {
   "display_name": "sagemaker",
   "language": "python",
   "name": "sagemaker"
  },
  "language_info": {
   "codemirror_mode": {
    "name": "ipython",
    "version": 3
   },
   "file_extension": ".py",
   "mimetype": "text/x-python",
   "name": "python",
   "nbconvert_exporter": "python",
   "pygments_lexer": "ipython3",
   "version": "3.9.5"
  }
 },
 "nbformat": 4,
 "nbformat_minor": 5
}
